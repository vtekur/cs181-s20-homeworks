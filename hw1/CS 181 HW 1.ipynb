{
 "cells": [
  {
   "cell_type": "code",
   "execution_count": null,
   "metadata": {},
   "outputs": [],
   "source": [
    "import math\n",
    "import matplotlib.pyplot as plt\n",
    "import numpy as np\n",
    "import pandas as pd"
   ]
  },
  {
   "cell_type": "code",
   "execution_count": null,
   "metadata": {},
   "outputs": [],
   "source": [
    "data_1 = [[0 , 0 , 0], [0 , 0.5 , 0], [0 , 1 , 0], [0.5 , 0 , 0.5], [0.5 , 0.5 , 0.5], [0.5 , 1 , 0.5], [1 , 0 , 1], [1 , 0.5 , 1], [1 , 1 , 1]]"
   ]
  },
  {
   "cell_type": "code",
   "execution_count": null,
   "metadata": {},
   "outputs": [],
   "source": [
    "def compute_loss(a, w11, w12, w22, data):\n",
    "    w11new = a * w11\n",
    "    w12new = a * w12\n",
    "    w22new = a * w22\n",
    "    loss = 0\n",
    "    W = [[w11new, w12new], [w12new, w22new]]\n",
    "    for i in range(len(data)): \n",
    "        numerator = 0\n",
    "        denom = 0 \n",
    "        num_2 = 0\n",
    "        denom_2 = 0\n",
    "        for j in range(len(data)): \n",
    "            if j != i: \n",
    "                y = data[j][2]\n",
    "                a_1 = data[j][0] - data[i][0]\n",
    "                a_2 = data[j][1] - data[i][1]\n",
    "                x_diff = [a_1, a_2]\n",
    "                numerator+= y * math.exp(-1 * (w11new * a_1**2 + 2 * w12new * a_1 * a_2 + w22new * a_2**2))\n",
    "                denom += math.exp(-1 * (w11new * a_1**2 + 2 * w12new * a_1 * a_2 + w22new * a_2**2))\n",
    "                #print(math.exp(-1 * np.matmul(np.matmul(x_diff, W), np.transpose(x_diff))) == math.exp(-1 * (w11new * a_1**2 + 2 * w12new * a_1 * a_2 + w22new * a_2**2)))\n",
    "        loss += (data[i][2] - numerator/denom) ** 2\n",
    "    return loss"
   ]
  },
  {
   "cell_type": "code",
   "execution_count": null,
   "metadata": {},
   "outputs": [],
   "source": [
    "print(compute_loss(10, 1, 0, 1, data_1))\n",
    "print(compute_loss(10, 0.1, 0, 1, data_1))\n",
    "print(compute_loss(10, 1, 0, 0.1, data_1))"
   ]
  },
  {
   "cell_type": "code",
   "execution_count": null,
   "metadata": {},
   "outputs": [],
   "source": [
    "a_vals = np.linspace(5, 100, num=50)\n",
    "kernel_1_loss = [compute_loss(a, 1, 0, 1, data_1) for a in a_vals]\n",
    "kernel_2_loss = [compute_loss(a, 0.1, 0, 1, data_1) for a in a_vals]\n",
    "kernel_3_loss = [compute_loss(a, 1, 0, 0.1, data_1) for a in a_vals]\n",
    "plt.plot(a_vals, kernel_1_loss)\n",
    "plt.xlabel(\"a value\")\n",
    "plt.ylabel(\"Kernel 1 Loss\")"
   ]
  },
  {
   "cell_type": "code",
   "execution_count": null,
   "metadata": {},
   "outputs": [],
   "source": [
    "plt.plot(a_vals, kernel_2_loss)\n",
    "plt.xlabel(\"a value\")\n",
    "plt.ylabel(\"Kernel 2 Loss\")"
   ]
  },
  {
   "cell_type": "code",
   "execution_count": null,
   "metadata": {},
   "outputs": [],
   "source": [
    "plt.plot(a_vals, kernel_3_loss)\n",
    "plt.xlabel(\"a value\")\n",
    "plt.ylabel(\"Kernel 3 Loss\")"
   ]
  },
  {
   "cell_type": "code",
   "execution_count": null,
   "metadata": {},
   "outputs": [],
   "source": []
  }
 ],
 "metadata": {
  "kernelspec": {
   "display_name": "nba-data-env",
   "language": "python",
   "name": "nba-data-env"
  },
  "language_info": {
   "codemirror_mode": {
    "name": "ipython",
    "version": 3
   },
   "file_extension": ".py",
   "mimetype": "text/x-python",
   "name": "python",
   "nbconvert_exporter": "python",
   "pygments_lexer": "ipython3",
   "version": "3.7.6"
  }
 },
 "nbformat": 4,
 "nbformat_minor": 2
}
